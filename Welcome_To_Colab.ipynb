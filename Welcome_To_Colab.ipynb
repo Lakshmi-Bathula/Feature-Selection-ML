{
  "cells": [
    {
      "cell_type": "markdown",
      "metadata": {
        "id": "view-in-github",
        "colab_type": "text"
      },
      "source": [
        "<a href=\"https://colab.research.google.com/github/Lakshmi-Bathula/Feature-Selection-ML/blob/main/Welcome_To_Colab.ipynb\" target=\"_parent\"><img src=\"https://colab.research.google.com/assets/colab-badge.svg\" alt=\"Open In Colab\"/></a>"
      ]
    },
    {
      "cell_type": "code",
      "source": [
        " import pandas as pd\n",
        " from sklearn.model_selection import train_test_split\n",
        " from sklearn.linear_model import LogisticRegression\n",
        " from sklearn.metrics import accuracy_score\n",
        " diabetes_dataset = pd.read_csv('/content/diabetes.csv.crdownload')\n"
      ],
      "metadata": {
        "id": "b-eZwBL1PUMA"
      },
      "execution_count": 7,
      "outputs": []
    },
    {
      "source": [
        "import pandas as pd\n",
        "from sklearn.model_selection import train_test_split\n",
        "from sklearn.linear_model import LogisticRegression\n",
        "from sklearn.metrics import accuracy_score\n",
        "diabetes_dataset = pd.read_csv('/content/diabetes.csv.crdownload')\n",
        "missing_values_percentage = diabetes_dataset.isnull().mean()\n",
        "cleaned_diabetes_data = diabetes_dataset.loc[:, missing_values_percentage < 0.3] #Fixed indentation error on this line\n",
        "X_features = cleaned_diabetes_data.drop(columns=['Outcome'])\n",
        "y_target = cleaned_diabetes_data['Outcome']\n",
        "X_train, X_test, y_train, y_test = train_test_split(X_features,\n",
        "y_target, test_size=0.3, random_state=42)\n",
        "diabetes_model = LogisticRegression(max_iter=200)\n",
        "diabetes_model.fit(X_train, y_train)\n",
        "y_pred = diabetes_model.predict(X_test)\n",
        "model_accuracy = accuracy_score(y_test, y_pred)\n",
        "print(f'Accuracy after Missing Value Filter (Diabetes): {model_accuracy:.4f}')"
      ],
      "cell_type": "code",
      "metadata": {
        "id": "wJCpWZD4PukG",
        "outputId": "e02e953c-6960-4d1c-dcaf-2e2b4f41f436",
        "colab": {
          "base_uri": "https://localhost:8080/"
        }
      },
      "execution_count": 9,
      "outputs": [
        {
          "output_type": "stream",
          "name": "stdout",
          "text": [
            "Accuracy after Missing Value Filter (Diabetes): 0.7359\n"
          ]
        }
      ]
    },
    {
      "source": [
        "from sklearn.model_selection import train_test_split\n",
        "from sklearn.ensemble import RandomForestRegressor # Fixed: Removed leading whitespace\n",
        "from sklearn.metrics import mean_squared_error\n",
        "import pandas as pd\n",
        "housing_data = pd.read_csv('/content/melbourne_housing_raw.csv.crdownload')"
      ],
      "cell_type": "code",
      "metadata": {
        "id": "p-oa7pMLOosB"
      },
      "execution_count": 4,
      "outputs": []
    },
    {
      "source": [
        "from sklearn.model_selection import train_test_split\n",
        "from sklearn.ensemble import RandomForestRegressor # Fixed: Removed leading whitespace\n",
        "from sklearn.metrics import mean_squared_error\n",
        "import pandas as pd\n",
        "\n",
        "housing_data = pd.read_csv('/content/melbourne_housing_raw.csv.crdownload')\n",
        "missing_percentage = housing_data.isnull().mean() * 100\n",
        "# Corrected indentation for the list comprehension:\n",
        "columns_to_drop = [column for column in missing_percentage.index if missing_percentage[column] > 20 and column != 'Price']\n",
        "cleaned_data = housing_data.drop(columns=columns_to_drop)\n",
        "cleaned_data = cleaned_data.dropna(subset=['Price'])\n",
        "features = cleaned_data.drop(columns=['Price', 'Date', 'Suburb','Type', 'Method', 'SellerG', 'CouncilArea', 'Regionname'])\n",
        "target = cleaned_data['Price']\n",
        "numeric_features = features.select_dtypes(include=[float, int]) # Select numeric columns\n",
        "features[numeric_features.columns] = numeric_features.fillna(numeric_features.mean()) # Fill missing values in numeric columns\n",
        "X_train, X_test, y_train, y_test = train_test_split(features, target, test_size=0.2, random_state=42)\n",
        "\n",
        "def evaluate_model(train_features, test_features, train_target, test_target):\n",
        "    model = RandomForestRegressor(random_state=42)\n",
        "    model.fit(train_features, train_target)\n",
        "    predictions = model.predict(test_features)\n",
        "    mse = mean_squared_error(test_target, predictions)\n",
        "    return mse\n",
        "\n",
        "mse_value = evaluate_model(X_train, X_test, y_train, y_test)\n",
        "print(f\"Model performance after filtering columns with >20% missing values: MSE = {mse_value:.2f}\")"
      ],
      "cell_type": "code",
      "metadata": {
        "colab": {
          "base_uri": "https://localhost:8080/"
        },
        "id": "Msj9HDyeO4xp",
        "outputId": "a17bc771-f7bd-4fdb-d21f-d630e9e62858"
      },
      "execution_count": 6,
      "outputs": [
        {
          "output_type": "stream",
          "name": "stdout",
          "text": [
            "Model performance after filtering columns with >20% missing values: MSE = 143875373039.63\n"
          ]
        }
      ]
    },
    {
      "cell_type": "code",
      "source": [
        " import pandas as pd\n",
        " from sklearn.model_selection import train_test_split\n",
        " from sklearn.linear_model import LogisticRegression\n"
      ],
      "metadata": {
        "id": "RloNHCapPzny"
      },
      "execution_count": 10,
      "outputs": []
    },
    {
      "source": [
        "from sklearn.metrics import accuracy_score\n",
        "diabetes_dataset = pd.read_csv('/content/diabetes.csv.crdownload') # Fixed: Removed leading whitespace\n",
        "X_features = diabetes_dataset.drop(columns=['Outcome'])\n",
        "y_target = diabetes_dataset['Outcome']\n",
        "correlation_matrix = diabetes_dataset.corr()\n",
        "high_corr_pairs = correlation_matrix[correlation_matrix.abs() > 0.8].stack().index.tolist()\n",
        "features_to_drop = set()\n",
        "for feature1, feature2 in high_corr_pairs:\n",
        "    if feature1 != feature2:\n",
        "        features_to_drop.add(feature2)\n",
        "cleaned_diabetes_data = diabetes_dataset.drop(columns=features_to_drop)\n",
        "X_features_corr = cleaned_diabetes_data.drop(columns=['Outcome'])\n",
        "y_target_corr = cleaned_diabetes_data['Outcome']\n",
        "X_train_corr, X_test_corr, y_train_corr, y_test_corr = train_test_split(X_features_corr, y_target_corr, test_size=0.3, random_state=42)\n",
        "diabetes_model_corr = LogisticRegression(max_iter=200)\n",
        "diabetes_model_corr.fit(X_train_corr, y_train_corr)\n",
        "y_pred_corr = diabetes_model_corr.predict(X_test_corr)\n",
        "model_accuracy_corr = accuracy_score(y_test_corr, y_pred_corr)\n",
        "print(f'Accuracy after High Correlation Filter (Diabetes): {model_accuracy_corr:.4f}')"
      ],
      "cell_type": "code",
      "metadata": {
        "id": "uO257yzQQbjL",
        "outputId": "8214b586-cb97-4b8e-9416-f267cd874941",
        "colab": {
          "base_uri": "https://localhost:8080/"
        }
      },
      "execution_count": 16,
      "outputs": [
        {
          "output_type": "stream",
          "name": "stdout",
          "text": [
            "Accuracy after High Correlation Filter (Diabetes): 0.7359\n"
          ]
        }
      ]
    },
    {
      "cell_type": "code",
      "source": [
        "import pandas as pd\n",
        "import numpy as np\n",
        "from sklearn.model_selection import train_test_split\n",
        "from sklearn.ensemble import RandomForestRegressor\n"
      ],
      "metadata": {
        "id": "vyjm1sL9QfBB"
      },
      "execution_count": 17,
      "outputs": []
    },
    {
      "source": [
        "from sklearn.metrics import mean_squared_error\n",
        "housing_data = pd.read_csv('/content/melbourne_housing_raw.csv.crdownload')\n",
        "missing_percentage = housing_data.isnull().mean() * 100\n",
        "columns_to_remove = [column for column in missing_percentage.index if\n",
        "missing_percentage[column] > 20 and column != 'Price']\n",
        "cleaned_data = housing_data.drop(columns=columns_to_remove)\n",
        "cleaned_data = cleaned_data.dropna(subset=['Price'])\n",
        "features = cleaned_data.drop(columns=['Price', 'Date', 'Suburb',\n",
        "'Type', 'Method', 'SellerG', 'CouncilArea', 'Regionname'])\n",
        "target = cleaned_data['Price']\n",
        "numeric_features = features.select_dtypes(include=[float, int])\n",
        "features[numeric_features.columns] = numeric_features.fillna(numeric_features.mean())\n",
        "X_train, X_test, y_train, y_test = train_test_split(features, target,\n",
        "test_size=0.2, random_state=42)\n",
        "correlation_matrix = X_train.corr().abs()\n",
        "high_correlation_pairs = np.where(correlation_matrix > 0.85)\n",
        "high_correlation_features = set([X_train.columns[i] for i in\n",
        "high_correlation_pairs[0] if i != high_correlation_pairs[1][i]]) # Remove diagonal\n",
        "X_train_filtered = X_train.drop(columns=high_correlation_features)\n",
        "X_test_filtered = X_test.drop(columns=high_correlation_features)\n",
        "def evaluate_model(train_features, test_features, train_target, test_target):\n",
        "    model = RandomForestRegressor(random_state=42)\n",
        "    model.fit(train_features, train_target)\n",
        "    predictions = model.predict(test_features)\n",
        "    mse = mean_squared_error(test_target, predictions)\n",
        "    return mse\n",
        "mse_after_correlation_filter = evaluate_model(X_train_filtered, X_test_filtered, y_train, y_test)\n",
        "print(f\"Model performance after removing highly correlated features: MSE = {mse_after_correlation_filter:.2f}\")"
      ],
      "cell_type": "code",
      "metadata": {
        "id": "evToTpA3Q3iK",
        "outputId": "762e46c1-ef58-48fc-9669-e93d70c291bc",
        "colab": {
          "base_uri": "https://localhost:8080/"
        }
      },
      "execution_count": 19,
      "outputs": [
        {
          "output_type": "stream",
          "name": "stdout",
          "text": [
            "Model performance after removing highly correlated features: MSE = 143875373039.63\n"
          ]
        }
      ]
    },
    {
      "source": [
        "import pandas as pd\n",
        "from sklearn.model_selection import train_test_split\n",
        "from sklearn.linear_model import LogisticRegression\n",
        "from sklearn.metrics import accuracy_score\n",
        "from sklearn.feature_selection import VarianceThreshold\n",
        "diabetes_dataset = pd.read_csv('/content/diabetes.csv.crdownload')\n",
        "X_features = diabetes_dataset.drop(columns=['Outcome'])\n",
        "y_target = diabetes_dataset['Outcome']\n",
        "selector_diabetes = VarianceThreshold(threshold=0.01)\n",
        "X_features_low_variance = selector_diabetes.fit_transform(X_features)\n",
        "mask_diabetes = selector_diabetes.get_support()\n",
        "low_variance_features = X_features.loc[:, mask_diabetes]\n",
        "cleaned_diabetes_low_variance = pd.concat([low_variance_features,\n",
        "y_target.reset_index(drop=True)], axis=1)\n",
        "X_low_variance = cleaned_diabetes_low_variance.drop(columns=['Outcome'])\n",
        "y_low_variance = cleaned_diabetes_low_variance['Outcome']\n",
        "X_low_variance_train, X_low_variance_test, y_low_variance_train, y_low_variance_test = train_test_split(X_low_variance, y_low_variance, test_size=0.3, random_state=42)\n",
        "diabetes_model_low_variance = LogisticRegression(max_iter=200)\n",
        "diabetes_model_low_variance.fit(X_low_variance_train, y_low_variance_train)\n",
        "y_pred_low_variance = diabetes_model_low_variance.predict(X_low_variance_test)\n",
        "accuracy_low_variance = accuracy_score(y_low_variance_test, y_pred_low_variance)\n",
        "print(f'Accuracy after Low Variance Filter (Diabetes): {accuracy_low_variance:.4f}')"
      ],
      "cell_type": "code",
      "metadata": {
        "id": "F7QNs9ZURQJq",
        "outputId": "9c79dec8-4e83-4bf6-9525-39fed69bd2fa",
        "colab": {
          "base_uri": "https://localhost:8080/"
        }
      },
      "execution_count": 21,
      "outputs": [
        {
          "output_type": "stream",
          "name": "stdout",
          "text": [
            "Accuracy after Low Variance Filter (Diabetes): 0.7359\n"
          ]
        }
      ]
    },
    {
      "source": [
        "import pandas as pd\n",
        "import numpy as np # Fixed: Removed leading whitespace\n",
        "from sklearn.model_selection import train_test_split\n",
        "from sklearn.ensemble import RandomForestRegressor\n",
        "from sklearn.metrics import mean_squared_error\n",
        "from sklearn.feature_selection import VarianceThreshold\n",
        "housing_data = pd.read_csv('/content/melbourne_housing_raw.csv.crdownload')"
      ],
      "cell_type": "code",
      "metadata": {
        "id": "wqTD-_gSRkPz"
      },
      "execution_count": 23,
      "outputs": []
    },
    {
      "source": [
        "missing_percentage = housing_data.isnull().mean() * 100\n",
        "columns_to_remove = [column for column in missing_percentage.index if\n",
        "                     missing_percentage[column] > 20 and column != 'Price']\n",
        "cleaned_data = housing_data.drop(columns=columns_to_remove)\n",
        "cleaned_data = cleaned_data.dropna(subset=['Price'])\n",
        "features = cleaned_data.drop(columns=['Price', 'Date', 'Suburb',\n",
        "                                      'Type', 'Method', 'SellerG', 'CouncilArea', 'Regionname'])\n",
        "target = cleaned_data['Price']\n",
        "numeric_features = features.select_dtypes(include=[float, int])\n",
        "features[numeric_features.columns] = numeric_features.fillna(numeric_features.mean())\n",
        "X_train, X_test, y_train, y_test = train_test_split(features, target,\n",
        "                                                    test_size=0.2, random_state=42)\n",
        "variance_filter = VarianceThreshold(threshold=0.01)\n",
        "X_train_low_variance = variance_filter.fit_transform(X_train)\n",
        "X_test_low_variance = variance_filter.transform(X_test)\n",
        "\n",
        "\n",
        "def evaluate_model(train_features, test_features, train_target, test_target):\n",
        "    model = RandomForestRegressor(random_state=42)\n",
        "    model.fit(train_features, train_target)\n",
        "    predictions = model.predict(test_features)\n",
        "    mse = mean_squared_error(test_target, predictions)\n",
        "    return mse\n",
        "\n",
        "\n",
        "mse_low_variance = evaluate_model(X_train_low_variance,\n",
        "                                 X_test_low_variance, y_train, y_test)\n",
        "print(f\"Model performance after removing low variance features: MSE = {mse_low_variance:.2f}\")"
      ],
      "cell_type": "code",
      "metadata": {
        "id": "NaOhF7HGRzS1",
        "outputId": "efa10365-b009-48ac-856a-3a3d688d589e",
        "colab": {
          "base_uri": "https://localhost:8080/"
        }
      },
      "execution_count": 25,
      "outputs": [
        {
          "output_type": "stream",
          "name": "stdout",
          "text": [
            "Model performance after removing low variance features: MSE = 143875373039.63\n"
          ]
        }
      ]
    },
    {
      "source": [
        "import pandas as pd\n",
        "from sklearn.model_selection import train_test_split\n",
        "from sklearn.linear_model import LogisticRegression # Fixed: Removed leading whitespace\n",
        "from sklearn.feature_selection import RFECV\n",
        "from sklearn.metrics import accuracy_score\n",
        "diabetes_dataset = pd.read_csv('/content/diabetes.csv.crdownload')\n",
        "X_features = diabetes_dataset.drop(columns=['Outcome'])\n",
        "y_target = diabetes_dataset['Outcome']\n",
        "selector_rfecv_diabetes = RFECV(estimator=LogisticRegression(max_iter=200), step=1, cv=5)\n",
        "selector_rfecv_diabetes.fit(X_features, y_target)\n",
        "X_selected_features = selector_rfecv_diabetes.transform(X_features)\n",
        "X_train_selected, X_test_selected, y_train_selected, y_test_selected = train_test_split(X_selected_features, y_target, test_size=0.3, random_state=42)\n",
        "diabetes_model_selected = LogisticRegression(max_iter=200)\n",
        "diabetes_model_selected.fit(X_train_selected, y_train_selected)\n",
        "y_pred_selected = diabetes_model_selected.predict(X_test_selected)\n",
        "accuracy_selected = accuracy_score(y_test_selected, y_pred_selected)\n",
        "print(f'Accuracy after Forward Feature Selection (Diabetes): {accuracy_selected:.4f}')"
      ],
      "cell_type": "code",
      "metadata": {
        "id": "WngEuNi2SryJ",
        "outputId": "0d37c0d1-b8c2-44b3-edb9-f3350a9fbb36",
        "colab": {
          "base_uri": "https://localhost:8080/"
        }
      },
      "execution_count": 30,
      "outputs": [
        {
          "output_type": "stream",
          "name": "stdout",
          "text": [
            "Accuracy after Forward Feature Selection (Diabetes): 0.7359\n"
          ]
        }
      ]
    },
    {
      "source": [
        "import pandas as pd\n",
        "from sklearn.model_selection import train_test_split\n",
        "from sklearn.ensemble import RandomForestRegressor\n",
        "from sklearn.metrics import mean_squared_error\n",
        "from sklearn.feature_selection import RFE\n",
        "from sklearn.linear_model import LinearRegression\n",
        "housing_data = pd.read_csv('/content/melbourne_housing_raw.csv.crdownload')\n",
        "missing_percentage = housing_data.isnull().mean() * 100\n",
        "columns_to_remove = [column for column in missing_percentage.index if\n",
        "                     missing_percentage[column] > 20 and column != 'Price']\n",
        "cleaned_data = housing_data.drop(columns=columns_to_remove)\n",
        "cleaned_data = cleaned_data.dropna(subset=['Price'])\n",
        "features = cleaned_data.drop(columns=['Price', 'Date', 'Suburb',\n",
        "                                      'Type', 'Method', 'SellerG', 'CouncilArea', 'Regionname'])\n",
        "target = cleaned_data['Price']\n",
        "numeric_features = features.select_dtypes(include=[float, int])\n",
        "features[numeric_features.columns] = numeric_features.fillna(numeric_features.mean())\n",
        "X_train, X_test, y_train, y_test = train_test_split(features, target,\n",
        "                                                    test_size=0.2, random_state=42)\n",
        "linear_model = LinearRegression()\n",
        "rfe_selector = RFE(estimator=linear_model, n_features_to_select=2,\n",
        "                   step=1)\n",
        "rfe_selector.fit(X_train, y_train)\n",
        "X_train_selected = rfe_selector.transform(X_train)\n",
        "X_test_selected = rfe_selector.transform(X_test)\n",
        "\n",
        "\n",
        "def evaluate_model(train_features, test_features, train_target, test_target):\n",
        "    model = RandomForestRegressor(random_state=42)\n",
        "    model.fit(train_features, train_target)\n",
        "    predictions = model.predict(test_features)\n",
        "    mse = mean_squared_error(test_target, predictions)\n",
        "    return mse\n",
        "\n",
        "\n",
        "mse_after_forward_selection = evaluate_model(X_train_selected,\n",
        "                                             X_test_selected, y_train, y_test)\n",
        "print(f\"Model performance after forward feature selection: MSE = {mse_after_forward_selection:.2f}\")"
      ],
      "cell_type": "code",
      "metadata": {
        "id": "DALRq2OITto-",
        "outputId": "d8f92713-f46e-46f9-f697-fcea975b77b7",
        "colab": {
          "base_uri": "https://localhost:8080/"
        }
      },
      "execution_count": 33,
      "outputs": [
        {
          "output_type": "stream",
          "name": "stdout",
          "text": [
            "Model performance after forward feature selection: MSE = 201622549444.08\n"
          ]
        }
      ]
    },
    {
      "source": [
        "import pandas as pd\n",
        "import numpy as np # Fixed: Removed leading whitespace\n",
        "from sklearn.model_selection import train_test_split\n",
        "from sklearn.tree import DecisionTreeClassifier\n",
        "diabetes_dataset = pd.read_csv('/content/diabetes.csv.crdownload')\n",
        "X_features = diabetes_dataset.drop(columns=['Outcome'])\n",
        "y_target = diabetes_dataset['Outcome']\n",
        "X_train_diabetes, X_test_diabetes, y_train_diabetes, y_test_diabetes = train_test_split(X_features, y_target, test_size=0.3, random_state=42)\n",
        "diabetes_model_backward = DecisionTreeClassifier()\n",
        "diabetes_model_backward.fit(X_train_diabetes, y_train_diabetes)\n",
        "importances_diabetes = diabetes_model_backward.feature_importances_\n",
        "indices_diabetes = np.argsort(importances_diabetes)\n",
        "remaining_features = list(X_features.columns)\n",
        "print(f\"Initial Number of Features: {len(remaining_features)}\")\n",
        "while len(remaining_features) > 5:\n",
        "    least_important_feature_index = indices_diabetes[0]\n",
        "    feature_to_drop = remaining_features[least_important_feature_index]\n",
        "    X_features = X_features.drop(columns=[feature_to_drop])\n",
        "    remaining_features.remove(feature_to_drop)\n",
        "\n",
        "    X_train_diabetes, X_test_diabetes, y_train_diabetes, y_test_diabetes = train_test_split(X_features, y_target, test_size=0.3, random_state=42)\n",
        "    diabetes_model_backward.fit(X_train_diabetes, y_train_diabetes)\n",
        "    importances_diabetes = diabetes_model_backward.feature_importances_\n",
        "    indices_diabetes = np.argsort(importances_diabetes)\n",
        "print(f\"Final Number of Features After Elimination: {len(remaining_features)}\")\n",
        "importances_diabetes_sorted_indices = np.argsort(importances_diabetes)[::-1]\n",
        "print(\"Top Important Features (Diabetes):\")\n",
        "for i in range(min(5, len(remaining_features))):\n",
        "    feature_name = remaining_features[importances_diabetes_sorted_indices[i]]\n",
        "    importance_value = importances_diabetes[importances_diabetes_sorted_indices[i]]\n",
        "    print(f\"{i + 1}. Feature '{feature_name}': {importance_value:.4f}\")"
      ],
      "cell_type": "code",
      "metadata": {
        "id": "jH0Kr0CxUJOJ",
        "outputId": "fc3f10dc-191f-4598-8393-048b5ef12e39",
        "colab": {
          "base_uri": "https://localhost:8080/"
        }
      },
      "execution_count": 35,
      "outputs": [
        {
          "output_type": "stream",
          "name": "stdout",
          "text": [
            "Initial Number of Features: 8\n",
            "Final Number of Features After Elimination: 5\n",
            "Top Important Features (Diabetes):\n",
            "1. Feature 'Glucose': 0.3537\n",
            "2. Feature 'BMI': 0.2200\n",
            "3. Feature 'DiabetesPedigreeFunction': 0.1753\n",
            "4. Feature 'Age': 0.1530\n",
            "5. Feature 'BloodPressure': 0.0980\n"
          ]
        }
      ]
    },
    {
      "source": [
        "import pandas as pd\n",
        "from sklearn.model_selection import train_test_split # Fixed: Removed leading whitespace\n",
        "from sklearn.ensemble import RandomForestRegressor\n",
        "from sklearn.metrics import mean_squared_error\n",
        "from sklearn.feature_selection import RFE\n",
        "housing_data = pd.read_csv('/content/melbourne_housing_raw.csv.crdownload')\n",
        "missing_percentage = housing_data.isnull().mean() * 100\n",
        "columns_to_remove = [column for column in missing_percentage.index if\n",
        "                     missing_percentage[column] > 20 and column != 'Price']\n",
        "cleaned_data = housing_data.drop(columns=columns_to_remove)\n",
        "cleaned_data = cleaned_data.dropna(subset=['Price'])\n",
        "X = cleaned_data.drop(columns=['Price', 'Date', 'Suburb', 'Type',\n",
        "                                 'Method', 'SellerG', 'CouncilArea', 'Regionname'])\n",
        "y = cleaned_data['Price']\n",
        "numeric_features = X.select_dtypes(include=[float, int])\n",
        "X[numeric_features.columns] = numeric_features.fillna(numeric_features.mean())\n",
        "X_train, X_test, y_train, y_test = train_test_split(X, y,\n",
        "                                                    test_size=0.2, random_state=42)\n",
        "random_forest_model = RandomForestRegressor(random_state=42)\n",
        "rfe_backward = RFE(estimator=random_forest_model,\n",
        "                   n_features_to_select=2, step=1)\n",
        "rfe_backward.fit(X_train, y_train)\n",
        "X_train_backward = rfe_backward.transform(X_train)\n",
        "X_test_backward = rfe_backward.transform(X_test)\n",
        "\n",
        "def evaluate_model(train_features, test_features, train_target, test_target):\n",
        "    model = RandomForestRegressor(random_state=42)\n",
        "    model.fit(train_features, train_target)\n",
        "    predictions = model.predict(test_features)\n",
        "    mse = mean_squared_error(test_target, predictions)\n",
        "    return mse\n",
        "\n",
        "mse_backward = evaluate_model(X_train_backward, X_test_backward,\n",
        "                             y_train, y_test)\n",
        "print(f\"Model performance after backward feature elimination: MSE = {mse_backward:.2f}\")"
      ],
      "cell_type": "code",
      "metadata": {
        "id": "57RuhpcuUh7E",
        "outputId": "2adccbfc-8b88-4c95-b272-be998fa158a7",
        "colab": {
          "base_uri": "https://localhost:8080/"
        }
      },
      "execution_count": 37,
      "outputs": [
        {
          "output_type": "stream",
          "name": "stdout",
          "text": [
            "Model performance after backward feature elimination: MSE = 292049092349.09\n"
          ]
        }
      ]
    },
    {
      "source": [
        "import pandas as pd\n",
        "from sklearn.model_selection import train_test_split\n",
        "from sklearn.ensemble import RandomForestClassifier\n",
        "diabetes_dataset = pd.read_csv('/content/diabetes.csv.crdownload')\n",
        "X_features = diabetes_dataset.drop(columns=['Outcome'])\n",
        "y_target = diabetes_dataset['Outcome']\n",
        "X_train_diabetes, X_test_diabetes, y_train_diabetes, y_test_diabetes = train_test_split(X_features, y_target, test_size=0.3, random_state=42)\n",
        "rf_model_diabetes = RandomForestClassifier()\n",
        "rf_model_diabetes.fit(X_train_diabetes, y_train_diabetes)\n",
        "feature_importances_diabetes = rf_model_diabetes.feature_importances_\n",
        "importance_df_diabetes = pd.DataFrame({'Feature': X_features.columns, 'Importance': feature_importances_diabetes})\n",
        "importance_df_diabetes = importance_df_diabetes.sort_values(by='Importance', ascending=False)\n",
        "print(\"Feature Importance Scores (Diabetes):\")\n",
        "print(importance_df_diabetes)"
      ],
      "cell_type": "code",
      "metadata": {
        "id": "G_yzUhvUVDL6",
        "outputId": "0d5b73b8-e765-4e0a-e261-670cd5988014",
        "colab": {
          "base_uri": "https://localhost:8080/"
        }
      },
      "execution_count": 40,
      "outputs": [
        {
          "output_type": "stream",
          "name": "stdout",
          "text": [
            "Feature Importance Scores (Diabetes):\n",
            "                    Feature  Importance\n",
            "1                   Glucose    0.256794\n",
            "5                       BMI    0.171754\n",
            "7                       Age    0.142306\n",
            "6  DiabetesPedigreeFunction    0.115734\n",
            "2             BloodPressure    0.089162\n",
            "0               Pregnancies    0.080751\n",
            "4                   Insulin    0.074597\n",
            "3             SkinThickness    0.068903\n"
          ]
        }
      ]
    },
    {
      "cell_type": "code",
      "source": [
        "import pandas as pd\n",
        " from sklearn.model_selection import train_test_split\n",
        " from sklearn.ensemble import RandomForestRegressor\n",
        " from sklearn.metrics import mean_squared_error\n",
        " from sklearn.feature_selection import SelectFromModel\n",
        "housing_data = pd.read_csv('/content/melbourne_housing_raw.csv.crdownloadV')\n",
        " missing_percentage = housing_data.isnull().mean() * 100\n",
        " columns_to_remove = [column for column in missing_percentage.index if\n",
        " missing_percentage[column] > 20 and column != 'Price']\n",
        " cleaned_data = housing_data.drop(columns=columns_to_remove)\n",
        " cleaned_data = cleaned_data.dropna(subset=['Price'])\n",
        " X = cleaned_data.drop(columns=['Price', 'Date', 'Suburb', 'Type',\n",
        " 'Method', 'SellerG', 'CouncilArea', 'Regionname'])\n",
        " y = cleaned_data['Price']\n",
        " numeric_features = X.select_dtypes(include=[float, int])\n",
        " X[numeric_features.columns] =\n",
        " numeric_features.fillna(numeric_features.mean())\n",
        " X_train, X_test, y_train, y_test = train_test_split(X, y,\n",
        " test_size=0.2, random_state=42)\n",
        " rf_model = RandomForestRegressor(random_state=42)\n",
        " rf_model.fit(X_train, y_train)\n",
        " selector = SelectFromModel(rf_model, threshold=\"mean\", prefit=True)\n",
        " X_train_selected = selector.transform(X_train)\n",
        " X_test_selected = selector.transform(X_test)\n",
        " X_train_rf_selected = pd.DataFrame(X_train_selected,\n",
        " columns=X.columns[selector.get_support()])\n",
        " X_test_rf_selected = pd.DataFrame(X_test_selected,\n",
        " columns=X.columns[selector.get_support()])\n",
        " def evaluate_model(train_features, test_features, train_target,\n",
        " test_target):\n",
        "  model = RandomForestRegressor(random_state=42)\n",
        "  model.fit(train_features, train_target)\n",
        "  predictions = model.predict(test_features)\n",
        "  mse = mean_squared_error(test_target, predictions)\n",
        "  return mse\n",
        " mse_rf_selection = evaluate_model(X_train_rf_selected,\n",
        " X_test_rf_selected, y_train, y_test)\n",
        " print(f\"Model performance after random forest feature selection: MSE =\n",
        " {mse_rf_selection:.2f}\")\n"
      ],
      "metadata": {
        "id": "yy0TKBkeVGOO",
        "outputId": "403f0b40-1784-430b-d60e-69f7f7c7477c",
        "colab": {
          "base_uri": "https://localhost:8080/",
          "height": 106
        }
      },
      "execution_count": 41,
      "outputs": [
        {
          "output_type": "error",
          "ename": "IndentationError",
          "evalue": "unexpected indent (<ipython-input-41-0a124f4d7a63>, line 2)",
          "traceback": [
            "\u001b[0;36m  File \u001b[0;32m\"<ipython-input-41-0a124f4d7a63>\"\u001b[0;36m, line \u001b[0;32m2\u001b[0m\n\u001b[0;31m    from sklearn.model_selection import train_test_split\u001b[0m\n\u001b[0m    ^\u001b[0m\n\u001b[0;31mIndentationError\u001b[0m\u001b[0;31m:\u001b[0m unexpected indent\n"
          ]
        }
      ]
    },
    {
      "source": [
        "import pandas as pd\n",
        "from sklearn.model_selection import train_test_split # Fixed: Removed leading whitespace\n",
        "from sklearn.ensemble import RandomForestRegressor\n",
        "from sklearn.metrics import mean_squared_error\n",
        "from sklearn.feature_selection import SelectFromModel\n",
        "housing_data = pd.read_csv('/content/melbourne_housing_raw.csv.crdownload') # Fixed: Removed 'V'\n",
        "missing_percentage = housing_data.isnull().mean() * 100\n",
        "columns_to_remove = [column for column in missing_percentage.index if\n",
        "                     missing_percentage[column] > 20 and column != 'Price']\n",
        "cleaned_data = housing_data.drop(columns=columns_to_remove)\n",
        "cleaned_data = cleaned_data.dropna(subset=['Price'])\n",
        "X = cleaned_data.drop(columns=['Price', 'Date', 'Suburb', 'Type',\n",
        "                                 'Method', 'SellerG', 'CouncilArea', 'Regionname'])\n",
        "y = cleaned_data['Price']\n",
        "numeric_features = X.select_dtypes(include=[float, int])\n",
        "X[numeric_features.columns] = numeric_features.fillna(numeric_features.mean())\n",
        "X_train, X_test, y_train, y_test = train_test_split(X, y,\n",
        "                                                    test_size=0.2, random_state=42)\n",
        "rf_model = RandomForestRegressor(random_state=42)\n",
        "rf_model.fit(X_train, y_train)\n",
        "selector = SelectFromModel(rf_model, threshold=\"mean\", prefit=True)\n",
        "X_train_selected = selector.transform(X_train)\n",
        "X_test_selected = selector.transform(X_test)\n",
        "X_train_rf_selected = pd.DataFrame(X_train_selected,\n",
        "                                   columns=X.columns[selector.get_support()])\n",
        "X_test_rf_selected = pd.DataFrame(X_test_selected,\n",
        "                                  columns=X.columns[selector.get_support()])\n",
        "\n",
        "\n",
        "def evaluate_model(train_features, test_features, train_target, test_target):\n",
        "    model = RandomForestRegressor(random_state=42)\n",
        "    model.fit(train_features, train_target)\n",
        "    predictions = model.predict(test_features)\n",
        "    mse = mean_squared_error(test_target, predictions)\n",
        "    return mse\n",
        "\n",
        "\n",
        "mse_rf_selection = evaluate_model(X_train_rf_selected, X_test_rf_selected,\n",
        "                                 y_train, y_test)\n",
        "print(f\"Model performance after random forest feature selection: MSE = {mse_rf_selection:.2f}\")"
      ],
      "cell_type": "code",
      "metadata": {
        "id": "-YtIuUIFWTvt",
        "outputId": "0c0c1da4-b852-46bd-873f-1c06f9e66276",
        "colab": {
          "base_uri": "https://localhost:8080/"
        }
      },
      "execution_count": 44,
      "outputs": [
        {
          "output_type": "stream",
          "name": "stderr",
          "text": [
            "/usr/local/lib/python3.10/dist-packages/sklearn/base.py:486: UserWarning: X has feature names, but SelectFromModel was fitted without feature names\n",
            "  warnings.warn(\n",
            "/usr/local/lib/python3.10/dist-packages/sklearn/base.py:486: UserWarning: X has feature names, but SelectFromModel was fitted without feature names\n",
            "  warnings.warn(\n"
          ]
        },
        {
          "output_type": "stream",
          "name": "stdout",
          "text": [
            "Model performance after random forest feature selection: MSE = 147811757361.14\n"
          ]
        }
      ]
    }
  ],
  "metadata": {
    "colab": {
      "name": "Welcome To Colab",
      "provenance": [],
      "include_colab_link": true
    },
    "kernelspec": {
      "display_name": "Python 3",
      "name": "python3"
    }
  },
  "nbformat": 4,
  "nbformat_minor": 0
}